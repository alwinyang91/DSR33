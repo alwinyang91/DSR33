{
 "cells": [
  {
   "cell_type": "code",
   "execution_count": 1,
   "id": "4cf4a3f1-503c-45da-99dc-14602dde0dfd",
   "metadata": {
    "tags": []
   },
   "outputs": [],
   "source": [
    "import pandas"
   ]
  },
  {
   "cell_type": "code",
   "execution_count": null,
   "id": "d1dc11be-b6e4-40e9-8173-73930b99d7b3",
   "metadata": {},
   "outputs": [],
   "source": [
    "# Main"
   ]
  }
 ],
 "metadata": {
  "kernelspec": {
   "display_name": "dsr",
   "language": "python",
   "name": "dsr-setup"
  },
  "language_info": {
   "codemirror_mode": {
    "name": "ipython",
    "version": 3
   },
   "file_extension": ".py",
   "mimetype": "text/x-python",
   "name": "python",
   "nbconvert_exporter": "python",
   "pygments_lexer": "ipython3",
   "version": "3.9.7"
  }
 },
 "nbformat": 4,
 "nbformat_minor": 5
}
